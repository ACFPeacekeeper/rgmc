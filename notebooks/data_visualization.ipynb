{
 "cells": [
  {
   "cell_type": "code",
   "execution_count": null,
   "metadata": {},
   "outputs": [],
   "source": [
    "import os\n",
    "import sys\n",
    "import matplotlib.pyplot as plt\n",
    "\n",
    "sys.path.insert(0, os.path.dirname(os.getcwd()))\n",
    "from data.datasets import MhdDataset, MnistSvhnDataset, MoseiDataset, MosiDataset, PendulumDataset\n",
    "\n",
    "\n",
    "def setup_dataset(m_path, config, device, train):\n",
    "    if config['dataset'] == 'mhd':\n",
    "        dataset = MhdDataset('mhd', os.path.join(m_path, \"datasets\", \"mhd\"), device, config['download'], config['exclude_modality'], config['target_modality'], train)\n",
    "    elif config['dataset'] == 'mosi':\n",
    "        dataset = MosiDataset('mosi', os.path.join(m_path, \"datasets\", \"mosi\"), device, config['download'], config['exclude_modality'], config['target_modality'], train)\n",
    "    elif config['dataset'] == 'mosei':\n",
    "        dataset = MoseiDataset('mosei', os.path.join(m_path, \"datasets\", \"mosei\"), device, config['download'], config['exclude_modality'], config['target_modality'], train)\n",
    "    elif config['dataset'] == 'pendulum':\n",
    "        dataset = PendulumDataset('pendulum', os.path.join(m_path, \"datasets\", \"pendulum\"), device, config['download'], config['exclude_modality'], config['target_modality'], train)\n",
    "    elif config['dataset'] == 'mnist_svhn':\n",
    "        dataset = MnistSvhnDataset('mnist_svhn', os.path.join(m_path, \"datasets\", \"mnist_svhn\"), device, config['download'], config['exclude_modality'], config['target_modality'], train)\n",
    "    return dataset\n",
    "\n",
    "m_path = os.path.split(os.getcwd())[0]"
   ]
  },
  {
   "cell_type": "code",
   "execution_count": null,
   "metadata": {},
   "outputs": [],
   "source": [
    "mhd_dataset = setup_dataset(m_path, \"mhd\")\n",
    "mosi_dataset = setup_dataset(m_path, \"mosi\")\n",
    "mosei_dataset = setup_dataset(m_path, \"mosei\")\n",
    "ms_dataset = setup_dataset(m_path, \"mnist_svhn\")"
   ]
  }
 ],
 "metadata": {
  "kernelspec": {
   "display_name": "Python 3",
   "language": "python",
   "name": "python3"
  },
  "language_info": {
   "codemirror_mode": {
    "name": "ipython",
    "version": 3
   },
   "file_extension": ".py",
   "mimetype": "text/x-python",
   "name": "python",
   "nbconvert_exporter": "python",
   "pygments_lexer": "ipython3",
   "version": "3.11.8"
  }
 },
 "nbformat": 4,
 "nbformat_minor": 2
}
